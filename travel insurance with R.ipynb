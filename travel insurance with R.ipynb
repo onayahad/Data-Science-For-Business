{
 "cells": [
  {
   "cell_type": "markdown",
   "id": "1e28ded7",
   "metadata": {},
   "source": [
    "# Importing libraries\n"
   ]
  },
  {
   "cell_type": "code",
   "execution_count": 35,
   "id": "274923c9",
   "metadata": {},
   "outputs": [],
   "source": [
    "library(tidyverse)\n",
    "library(ggplot2)\n",
    "library(dbplyr)\n",
    "library(boot)\n",
    "library(caTools)\n",
    "library(dplyr)\n",
    "library (caret)\n",
    "library (data.table)\n"
   ]
  },
  {
   "cell_type": "markdown",
   "id": "d7d7539e",
   "metadata": {},
   "source": [
    "# Importing dataset"
   ]
  },
  {
   "cell_type": "code",
   "execution_count": 2,
   "id": "d6450505",
   "metadata": {},
   "outputs": [],
   "source": [
    "travelInsurance <- read.csv(file = 'travel.csv')"
   ]
  },
  {
   "cell_type": "code",
   "execution_count": 3,
   "id": "5252497e",
   "metadata": {},
   "outputs": [
    {
     "data": {
      "text/html": [
       "<table>\n",
       "<thead><tr><th scope=col>X</th><th scope=col>Age</th><th scope=col>Employment.Type</th><th scope=col>GraduateOrNot</th><th scope=col>AnnualIncome</th><th scope=col>FamilyMembers</th><th scope=col>ChronicDiseases</th><th scope=col>FrequentFlyer</th><th scope=col>EverTravelledAbroad</th><th scope=col>TravelInsurance</th></tr></thead>\n",
       "<tbody>\n",
       "\t<tr><td>0                           </td><td>31                          </td><td>Government Sector           </td><td>Yes                         </td><td> 400000                     </td><td>6                           </td><td>1                           </td><td>No                          </td><td>No                          </td><td>0                           </td></tr>\n",
       "\t<tr><td>1                           </td><td>31                          </td><td>Private Sector/Self Employed</td><td>Yes                         </td><td>1250000                     </td><td>7                           </td><td>0                           </td><td>No                          </td><td>No                          </td><td>0                           </td></tr>\n",
       "\t<tr><td>2                           </td><td>34                          </td><td>Private Sector/Self Employed</td><td>Yes                         </td><td> 500000                     </td><td>4                           </td><td>1                           </td><td>No                          </td><td>No                          </td><td>1                           </td></tr>\n",
       "\t<tr><td>3                           </td><td>28                          </td><td>Private Sector/Self Employed</td><td>Yes                         </td><td> 700000                     </td><td>3                           </td><td>1                           </td><td>No                          </td><td>No                          </td><td>0                           </td></tr>\n",
       "\t<tr><td>4                           </td><td>28                          </td><td>Private Sector/Self Employed</td><td>Yes                         </td><td> 700000                     </td><td>8                           </td><td>1                           </td><td>Yes                         </td><td>No                          </td><td>0                           </td></tr>\n",
       "\t<tr><td>5                           </td><td>25                          </td><td>Private Sector/Self Employed</td><td>No                          </td><td>1150000                     </td><td>4                           </td><td>0                           </td><td>No                          </td><td>No                          </td><td>0                           </td></tr>\n",
       "</tbody>\n",
       "</table>\n"
      ],
      "text/latex": [
       "\\begin{tabular}{r|llllllllll}\n",
       " X & Age & Employment.Type & GraduateOrNot & AnnualIncome & FamilyMembers & ChronicDiseases & FrequentFlyer & EverTravelledAbroad & TravelInsurance\\\\\n",
       "\\hline\n",
       "\t 0                            & 31                           & Government Sector            & Yes                          &  400000                      & 6                            & 1                            & No                           & No                           & 0                           \\\\\n",
       "\t 1                            & 31                           & Private Sector/Self Employed & Yes                          & 1250000                      & 7                            & 0                            & No                           & No                           & 0                           \\\\\n",
       "\t 2                            & 34                           & Private Sector/Self Employed & Yes                          &  500000                      & 4                            & 1                            & No                           & No                           & 1                           \\\\\n",
       "\t 3                            & 28                           & Private Sector/Self Employed & Yes                          &  700000                      & 3                            & 1                            & No                           & No                           & 0                           \\\\\n",
       "\t 4                            & 28                           & Private Sector/Self Employed & Yes                          &  700000                      & 8                            & 1                            & Yes                          & No                           & 0                           \\\\\n",
       "\t 5                            & 25                           & Private Sector/Self Employed & No                           & 1150000                      & 4                            & 0                            & No                           & No                           & 0                           \\\\\n",
       "\\end{tabular}\n"
      ],
      "text/markdown": [
       "\n",
       "| X | Age | Employment.Type | GraduateOrNot | AnnualIncome | FamilyMembers | ChronicDiseases | FrequentFlyer | EverTravelledAbroad | TravelInsurance |\n",
       "|---|---|---|---|---|---|---|---|---|---|\n",
       "| 0                            | 31                           | Government Sector            | Yes                          |  400000                      | 6                            | 1                            | No                           | No                           | 0                            |\n",
       "| 1                            | 31                           | Private Sector/Self Employed | Yes                          | 1250000                      | 7                            | 0                            | No                           | No                           | 0                            |\n",
       "| 2                            | 34                           | Private Sector/Self Employed | Yes                          |  500000                      | 4                            | 1                            | No                           | No                           | 1                            |\n",
       "| 3                            | 28                           | Private Sector/Self Employed | Yes                          |  700000                      | 3                            | 1                            | No                           | No                           | 0                            |\n",
       "| 4                            | 28                           | Private Sector/Self Employed | Yes                          |  700000                      | 8                            | 1                            | Yes                          | No                           | 0                            |\n",
       "| 5                            | 25                           | Private Sector/Self Employed | No                           | 1150000                      | 4                            | 0                            | No                           | No                           | 0                            |\n",
       "\n"
      ],
      "text/plain": [
       "  X Age Employment.Type              GraduateOrNot AnnualIncome FamilyMembers\n",
       "1 0 31  Government Sector            Yes            400000      6            \n",
       "2 1 31  Private Sector/Self Employed Yes           1250000      7            \n",
       "3 2 34  Private Sector/Self Employed Yes            500000      4            \n",
       "4 3 28  Private Sector/Self Employed Yes            700000      3            \n",
       "5 4 28  Private Sector/Self Employed Yes            700000      8            \n",
       "6 5 25  Private Sector/Self Employed No            1150000      4            \n",
       "  ChronicDiseases FrequentFlyer EverTravelledAbroad TravelInsurance\n",
       "1 1               No            No                  0              \n",
       "2 0               No            No                  0              \n",
       "3 1               No            No                  1              \n",
       "4 1               No            No                  0              \n",
       "5 1               Yes           No                  0              \n",
       "6 0               No            No                  0              "
      ]
     },
     "metadata": {},
     "output_type": "display_data"
    }
   ],
   "source": [
    "head(travelInsurance)"
   ]
  },
  {
   "cell_type": "markdown",
   "id": "7ece6800",
   "metadata": {},
   "source": [
    "# Exploration and Summary of data"
   ]
  },
  {
   "cell_type": "code",
   "execution_count": 4,
   "id": "c8c5b3ab",
   "metadata": {},
   "outputs": [
    {
     "data": {
      "text/plain": [
       "       X               Age                            Employment.Type\n",
       " Min.   :   0.0   Min.   :25.00   Government Sector           : 570  \n",
       " 1st Qu.: 496.5   1st Qu.:28.00   Private Sector/Self Employed:1417  \n",
       " Median : 993.0   Median :29.00                                      \n",
       " Mean   : 993.0   Mean   :29.65                                      \n",
       " 3rd Qu.:1489.5   3rd Qu.:32.00                                      \n",
       " Max.   :1986.0   Max.   :35.00                                      \n",
       " GraduateOrNot  AnnualIncome     FamilyMembers   ChronicDiseases  FrequentFlyer\n",
       " No : 295      Min.   : 300000   Min.   :2.000   Min.   :0.0000   No :1570     \n",
       " Yes:1692      1st Qu.: 600000   1st Qu.:4.000   1st Qu.:0.0000   Yes: 417     \n",
       "               Median : 900000   Median :5.000   Median :0.0000                \n",
       "               Mean   : 932763   Mean   :4.753   Mean   :0.2778                \n",
       "               3rd Qu.:1250000   3rd Qu.:6.000   3rd Qu.:1.0000                \n",
       "               Max.   :1800000   Max.   :9.000   Max.   :1.0000                \n",
       " EverTravelledAbroad TravelInsurance \n",
       " No :1607            Min.   :0.0000  \n",
       " Yes: 380            1st Qu.:0.0000  \n",
       "                     Median :0.0000  \n",
       "                     Mean   :0.3573  \n",
       "                     3rd Qu.:1.0000  \n",
       "                     Max.   :1.0000  "
      ]
     },
     "metadata": {},
     "output_type": "display_data"
    }
   ],
   "source": [
    "summary(travelInsurance)"
   ]
  },
  {
   "cell_type": "code",
   "execution_count": 5,
   "id": "abadb334",
   "metadata": {},
   "outputs": [
    {
     "data": {
      "text/html": [
       "<table>\n",
       "<thead><tr><th scope=col>X</th><th scope=col>Age</th><th scope=col>Employment.Type</th><th scope=col>GraduateOrNot</th><th scope=col>AnnualIncome</th><th scope=col>FamilyMembers</th><th scope=col>ChronicDiseases</th><th scope=col>FrequentFlyer</th><th scope=col>EverTravelledAbroad</th><th scope=col>TravelInsurance</th></tr></thead>\n",
       "<tbody>\n",
       "\t<tr><td>0                           </td><td>31                          </td><td>Government Sector           </td><td>Yes                         </td><td> 400000                     </td><td>6                           </td><td>1                           </td><td>No                          </td><td>No                          </td><td>0                           </td></tr>\n",
       "\t<tr><td>1                           </td><td>31                          </td><td>Private Sector/Self Employed</td><td>Yes                         </td><td>1250000                     </td><td>7                           </td><td>0                           </td><td>No                          </td><td>No                          </td><td>0                           </td></tr>\n",
       "\t<tr><td>2                           </td><td>34                          </td><td>Private Sector/Self Employed</td><td>Yes                         </td><td> 500000                     </td><td>4                           </td><td>1                           </td><td>No                          </td><td>No                          </td><td>1                           </td></tr>\n",
       "\t<tr><td>3                           </td><td>28                          </td><td>Private Sector/Self Employed</td><td>Yes                         </td><td> 700000                     </td><td>3                           </td><td>1                           </td><td>No                          </td><td>No                          </td><td>0                           </td></tr>\n",
       "\t<tr><td>4                           </td><td>28                          </td><td>Private Sector/Self Employed</td><td>Yes                         </td><td> 700000                     </td><td>8                           </td><td>1                           </td><td>Yes                         </td><td>No                          </td><td>0                           </td></tr>\n",
       "\t<tr><td>5                           </td><td>25                          </td><td>Private Sector/Self Employed</td><td>No                          </td><td>1150000                     </td><td>4                           </td><td>0                           </td><td>No                          </td><td>No                          </td><td>0                           </td></tr>\n",
       "\t<tr><td>6                           </td><td>31                          </td><td>Government Sector           </td><td>Yes                         </td><td>1300000                     </td><td>4                           </td><td>0                           </td><td>No                          </td><td>No                          </td><td>0                           </td></tr>\n",
       "\t<tr><td>7                           </td><td>31                          </td><td>Private Sector/Self Employed</td><td>Yes                         </td><td>1350000                     </td><td>3                           </td><td>0                           </td><td>Yes                         </td><td>Yes                         </td><td>1                           </td></tr>\n",
       "\t<tr><td>8                           </td><td>28                          </td><td>Private Sector/Self Employed</td><td>Yes                         </td><td>1450000                     </td><td>6                           </td><td>1                           </td><td>Yes                         </td><td>Yes                         </td><td>1                           </td></tr>\n",
       "\t<tr><td>9                           </td><td>33                          </td><td>Government Sector           </td><td>Yes                         </td><td> 800000                     </td><td>3                           </td><td>0                           </td><td>Yes                         </td><td>No                          </td><td>0                           </td></tr>\n",
       "</tbody>\n",
       "</table>\n"
      ],
      "text/latex": [
       "\\begin{tabular}{r|llllllllll}\n",
       " X & Age & Employment.Type & GraduateOrNot & AnnualIncome & FamilyMembers & ChronicDiseases & FrequentFlyer & EverTravelledAbroad & TravelInsurance\\\\\n",
       "\\hline\n",
       "\t 0                            & 31                           & Government Sector            & Yes                          &  400000                      & 6                            & 1                            & No                           & No                           & 0                           \\\\\n",
       "\t 1                            & 31                           & Private Sector/Self Employed & Yes                          & 1250000                      & 7                            & 0                            & No                           & No                           & 0                           \\\\\n",
       "\t 2                            & 34                           & Private Sector/Self Employed & Yes                          &  500000                      & 4                            & 1                            & No                           & No                           & 1                           \\\\\n",
       "\t 3                            & 28                           & Private Sector/Self Employed & Yes                          &  700000                      & 3                            & 1                            & No                           & No                           & 0                           \\\\\n",
       "\t 4                            & 28                           & Private Sector/Self Employed & Yes                          &  700000                      & 8                            & 1                            & Yes                          & No                           & 0                           \\\\\n",
       "\t 5                            & 25                           & Private Sector/Self Employed & No                           & 1150000                      & 4                            & 0                            & No                           & No                           & 0                           \\\\\n",
       "\t 6                            & 31                           & Government Sector            & Yes                          & 1300000                      & 4                            & 0                            & No                           & No                           & 0                           \\\\\n",
       "\t 7                            & 31                           & Private Sector/Self Employed & Yes                          & 1350000                      & 3                            & 0                            & Yes                          & Yes                          & 1                           \\\\\n",
       "\t 8                            & 28                           & Private Sector/Self Employed & Yes                          & 1450000                      & 6                            & 1                            & Yes                          & Yes                          & 1                           \\\\\n",
       "\t 9                            & 33                           & Government Sector            & Yes                          &  800000                      & 3                            & 0                            & Yes                          & No                           & 0                           \\\\\n",
       "\\end{tabular}\n"
      ],
      "text/markdown": [
       "\n",
       "| X | Age | Employment.Type | GraduateOrNot | AnnualIncome | FamilyMembers | ChronicDiseases | FrequentFlyer | EverTravelledAbroad | TravelInsurance |\n",
       "|---|---|---|---|---|---|---|---|---|---|\n",
       "| 0                            | 31                           | Government Sector            | Yes                          |  400000                      | 6                            | 1                            | No                           | No                           | 0                            |\n",
       "| 1                            | 31                           | Private Sector/Self Employed | Yes                          | 1250000                      | 7                            | 0                            | No                           | No                           | 0                            |\n",
       "| 2                            | 34                           | Private Sector/Self Employed | Yes                          |  500000                      | 4                            | 1                            | No                           | No                           | 1                            |\n",
       "| 3                            | 28                           | Private Sector/Self Employed | Yes                          |  700000                      | 3                            | 1                            | No                           | No                           | 0                            |\n",
       "| 4                            | 28                           | Private Sector/Self Employed | Yes                          |  700000                      | 8                            | 1                            | Yes                          | No                           | 0                            |\n",
       "| 5                            | 25                           | Private Sector/Self Employed | No                           | 1150000                      | 4                            | 0                            | No                           | No                           | 0                            |\n",
       "| 6                            | 31                           | Government Sector            | Yes                          | 1300000                      | 4                            | 0                            | No                           | No                           | 0                            |\n",
       "| 7                            | 31                           | Private Sector/Self Employed | Yes                          | 1350000                      | 3                            | 0                            | Yes                          | Yes                          | 1                            |\n",
       "| 8                            | 28                           | Private Sector/Self Employed | Yes                          | 1450000                      | 6                            | 1                            | Yes                          | Yes                          | 1                            |\n",
       "| 9                            | 33                           | Government Sector            | Yes                          |  800000                      | 3                            | 0                            | Yes                          | No                           | 0                            |\n",
       "\n"
      ],
      "text/plain": [
       "   X Age Employment.Type              GraduateOrNot AnnualIncome FamilyMembers\n",
       "1  0 31  Government Sector            Yes            400000      6            \n",
       "2  1 31  Private Sector/Self Employed Yes           1250000      7            \n",
       "3  2 34  Private Sector/Self Employed Yes            500000      4            \n",
       "4  3 28  Private Sector/Self Employed Yes            700000      3            \n",
       "5  4 28  Private Sector/Self Employed Yes            700000      8            \n",
       "6  5 25  Private Sector/Self Employed No            1150000      4            \n",
       "7  6 31  Government Sector            Yes           1300000      4            \n",
       "8  7 31  Private Sector/Self Employed Yes           1350000      3            \n",
       "9  8 28  Private Sector/Self Employed Yes           1450000      6            \n",
       "10 9 33  Government Sector            Yes            800000      3            \n",
       "   ChronicDiseases FrequentFlyer EverTravelledAbroad TravelInsurance\n",
       "1  1               No            No                  0              \n",
       "2  0               No            No                  0              \n",
       "3  1               No            No                  1              \n",
       "4  1               No            No                  0              \n",
       "5  1               Yes           No                  0              \n",
       "6  0               No            No                  0              \n",
       "7  0               No            No                  0              \n",
       "8  0               Yes           Yes                 1              \n",
       "9  1               Yes           Yes                 1              \n",
       "10 0               Yes           No                  0              "
      ]
     },
     "metadata": {},
     "output_type": "display_data"
    }
   ],
   "source": [
    "head(travelInsurance, 10)"
   ]
  },
  {
   "cell_type": "code",
   "execution_count": 6,
   "id": "15b4d81f",
   "metadata": {},
   "outputs": [
    {
     "name": "stdout",
     "output_type": "stream",
     "text": [
      "'data.frame':\t1987 obs. of  10 variables:\n",
      " $ X                  : int  0 1 2 3 4 5 6 7 8 9 ...\n",
      " $ Age                : int  31 31 34 28 28 25 31 31 28 33 ...\n",
      " $ Employment.Type    : Factor w/ 2 levels \"Government Sector\",..: 1 2 2 2 2 2 1 2 2 1 ...\n",
      " $ GraduateOrNot      : Factor w/ 2 levels \"No\",\"Yes\": 2 2 2 2 2 1 2 2 2 2 ...\n",
      " $ AnnualIncome       : int  400000 1250000 500000 700000 700000 1150000 1300000 1350000 1450000 800000 ...\n",
      " $ FamilyMembers      : int  6 7 4 3 8 4 4 3 6 3 ...\n",
      " $ ChronicDiseases    : int  1 0 1 1 1 0 0 0 1 0 ...\n",
      " $ FrequentFlyer      : Factor w/ 2 levels \"No\",\"Yes\": 1 1 1 1 2 1 1 2 2 2 ...\n",
      " $ EverTravelledAbroad: Factor w/ 2 levels \"No\",\"Yes\": 1 1 1 1 1 1 1 2 2 1 ...\n",
      " $ TravelInsurance    : int  0 0 1 0 0 0 0 1 1 0 ...\n"
     ]
    }
   ],
   "source": [
    "str(travelInsurance)"
   ]
  },
  {
   "cell_type": "code",
   "execution_count": 7,
   "id": "fe1cc375",
   "metadata": {},
   "outputs": [
    {
     "data": {
      "text/html": [
       "<table>\n",
       "<thead><tr><th scope=col>TravelInsurance</th><th scope=col>n</th></tr></thead>\n",
       "<tbody>\n",
       "\t<tr><td>0   </td><td>1277</td></tr>\n",
       "\t<tr><td>1   </td><td> 710</td></tr>\n",
       "</tbody>\n",
       "</table>\n"
      ],
      "text/latex": [
       "\\begin{tabular}{r|ll}\n",
       " TravelInsurance & n\\\\\n",
       "\\hline\n",
       "\t 0    & 1277\\\\\n",
       "\t 1    &  710\\\\\n",
       "\\end{tabular}\n"
      ],
      "text/markdown": [
       "\n",
       "| TravelInsurance | n |\n",
       "|---|---|\n",
       "| 0    | 1277 |\n",
       "| 1    |  710 |\n",
       "\n"
      ],
      "text/plain": [
       "  TravelInsurance n   \n",
       "1 0               1277\n",
       "2 1                710"
      ]
     },
     "metadata": {},
     "output_type": "display_data"
    }
   ],
   "source": [
    "travelInsurance %>% count(TravelInsurance)"
   ]
  },
  {
   "cell_type": "markdown",
   "id": "1d8ad13e",
   "metadata": {},
   "source": [
    "Here i have shown the number of travel insurance "
   ]
  },
  {
   "cell_type": "markdown",
   "id": "2f0c07d6",
   "metadata": {},
   "source": [
    "# Checking null values"
   ]
  },
  {
   "cell_type": "markdown",
   "id": "ad7a2517",
   "metadata": {},
   "source": [
    "### Checking to see if there is any nulls in each column"
   ]
  },
  {
   "cell_type": "code",
   "execution_count": 8,
   "id": "64709be0",
   "metadata": {},
   "outputs": [
    {
     "data": {
      "text/html": [
       "<dl class=dl-horizontal>\n",
       "\t<dt>X</dt>\n",
       "\t\t<dd>0</dd>\n",
       "\t<dt>Age</dt>\n",
       "\t\t<dd>0</dd>\n",
       "\t<dt>Employment.Type</dt>\n",
       "\t\t<dd>0</dd>\n",
       "\t<dt>GraduateOrNot</dt>\n",
       "\t\t<dd>0</dd>\n",
       "\t<dt>AnnualIncome</dt>\n",
       "\t\t<dd>0</dd>\n",
       "\t<dt>FamilyMembers</dt>\n",
       "\t\t<dd>0</dd>\n",
       "\t<dt>ChronicDiseases</dt>\n",
       "\t\t<dd>0</dd>\n",
       "\t<dt>FrequentFlyer</dt>\n",
       "\t\t<dd>0</dd>\n",
       "\t<dt>EverTravelledAbroad</dt>\n",
       "\t\t<dd>0</dd>\n",
       "\t<dt>TravelInsurance</dt>\n",
       "\t\t<dd>0</dd>\n",
       "</dl>\n"
      ],
      "text/latex": [
       "\\begin{description*}\n",
       "\\item[X] 0\n",
       "\\item[Age] 0\n",
       "\\item[Employment.Type] 0\n",
       "\\item[GraduateOrNot] 0\n",
       "\\item[AnnualIncome] 0\n",
       "\\item[FamilyMembers] 0\n",
       "\\item[ChronicDiseases] 0\n",
       "\\item[FrequentFlyer] 0\n",
       "\\item[EverTravelledAbroad] 0\n",
       "\\item[TravelInsurance] 0\n",
       "\\end{description*}\n"
      ],
      "text/markdown": [
       "X\n",
       ":   0Age\n",
       ":   0Employment.Type\n",
       ":   0GraduateOrNot\n",
       ":   0AnnualIncome\n",
       ":   0FamilyMembers\n",
       ":   0ChronicDiseases\n",
       ":   0FrequentFlyer\n",
       ":   0EverTravelledAbroad\n",
       ":   0TravelInsurance\n",
       ":   0\n",
       "\n"
      ],
      "text/plain": [
       "                  X                 Age     Employment.Type       GraduateOrNot \n",
       "                  0                   0                   0                   0 \n",
       "       AnnualIncome       FamilyMembers     ChronicDiseases       FrequentFlyer \n",
       "                  0                   0                   0                   0 \n",
       "EverTravelledAbroad     TravelInsurance \n",
       "                  0                   0 "
      ]
     },
     "metadata": {},
     "output_type": "display_data"
    }
   ],
   "source": [
    "colSums(is.na(travelInsurance))"
   ]
  },
  {
   "cell_type": "markdown",
   "id": "327bc8c6",
   "metadata": {},
   "source": [
    "There is no null values in here "
   ]
  },
  {
   "cell_type": "markdown",
   "id": "4502f802",
   "metadata": {},
   "source": [
    "# Data Exploration and Visualization"
   ]
  },
  {
   "cell_type": "code",
   "execution_count": 9,
   "id": "c6f49c13",
   "metadata": {},
   "outputs": [
    {
     "data": {
      "image/png": "[encoded data removed]",
      "text/plain": [
       "Plot with title \"Insurance taken vs not taken\""
      ]
     },
     "metadata": {},
     "output_type": "display_data"
    }
   ],
   "source": [
    "barplot(prop.table(table(travelInsurance$TravelInsurance\n",
    ")),\n",
    "        names.arg = c('travel_insurance_not_taken', 'travel_insurance_taken'),\n",
    "        ylab = 'No of Insurance', main=\"Insurance taken vs not taken\", col='light green', ylim = c(0,1.0))"
   ]
  },
  {
   "cell_type": "markdown",
   "id": "c96f1239",
   "metadata": {},
   "source": [
    "### Here i have given the barplot of insurance taken and insurance not taken"
   ]
  },
  {
   "cell_type": "code",
   "execution_count": 10,
   "id": "022da72a",
   "metadata": {},
   "outputs": [
    {
     "data": {
      "image/png": "[encoded data removed]",
      "text/plain": [
       "plot without title"
      ]
     },
     "metadata": {},
     "output_type": "display_data"
    }
   ],
   "source": [
    "p1 <- ggplot(data=travelInsurance) +\n",
    "  geom_bar(mapping = aes(x = Age), fill = '#B3E2CD', color = 'black') +\n",
    "  geom_text(mapping = aes(x = Age, label = ..count..),stat = 'count', vjust=-0.50)\n",
    "p1"
   ]
  },
  {
   "cell_type": "markdown",
   "id": "c2d9b610",
   "metadata": {},
   "source": [
    "### Here I have shown the showcase of the age"
   ]
  },
  {
   "cell_type": "code",
   "execution_count": 11,
   "id": "4e514490",
   "metadata": {},
   "outputs": [
    {
     "data": {
      "image/png": "[encoded data removed]",
      "text/plain": [
       "plot without title"
      ]
     },
     "metadata": {},
     "output_type": "display_data"
    }
   ],
   "source": [
    "p2 <- ggplot(data=travelInsurance) +\n",
    "  geom_bar(mapping = aes(x = \"\", fill = Employment.Type), width = 0.5) +\n",
    "  labs(x = NULL, y = NULL)\n",
    "p2 <- p2 + coord_polar(theta = \"y\") +\n",
    "  theme(aspect.ratio = 1:1) +\n",
    "  scale_fill_brewer(palette = \"Pastel2\")\n",
    "p2"
   ]
  },
  {
   "cell_type": "markdown",
   "id": "7b33849e",
   "metadata": {},
   "source": [
    "### Here I have shown the employment type"
   ]
  },
  {
   "cell_type": "code",
   "execution_count": 12,
   "id": "626809b4",
   "metadata": {},
   "outputs": [
    {
     "data": {
      "image/png": "[encoded data removed]",
      "text/plain": [
       "plot without title"
      ]
     },
     "metadata": {},
     "output_type": "display_data"
    }
   ],
   "source": [
    "p3 <- ggplot(data=travelInsurance) +\n",
    "  geom_bar(mapping = aes(x = \"\", fill = FrequentFlyer), width = 0.5) +\n",
    "  labs(x = NULL, y = NULL)\n",
    "p3 <- p3 + coord_polar(theta = \"y\") +\n",
    "  theme(aspect.ratio = 1:1) +\n",
    "  scale_fill_brewer(palette = \"Pastel2\")\n",
    "p3"
   ]
  },
  {
   "cell_type": "markdown",
   "id": "2f39b760",
   "metadata": {},
   "source": [
    "### In here i have shown who are the frequent flyer and who are not"
   ]
  },
  {
   "cell_type": "code",
   "execution_count": 13,
   "id": "4cc8235e",
   "metadata": {},
   "outputs": [
    {
     "name": "stderr",
     "output_type": "stream",
     "text": [
      "`stat_bin()` using `bins = 30`. Pick better value with `binwidth`.\n"
     ]
    },
    {
     "data": {
      "image/png": "[encoded data removed]",
      "text/plain": [
       "plot without title"
      ]
     },
     "metadata": {},
     "output_type": "display_data"
    }
   ],
   "source": [
    "p4 <- ggplot(data=travelInsurance, mapping = aes(x = AnnualIncome)) +\n",
    "  geom_histogram(mapping = aes(y=..density..), colour = \"black\", fill = \"white\")+\n",
    "  geom_density(alpha = 0.2, fill = \"#B3E2CD\")\n",
    "p4\n"
   ]
  },
  {
   "cell_type": "markdown",
   "id": "45db5836",
   "metadata": {},
   "source": [
    "### Here i have shown the showcases of annual income "
   ]
  },
  {
   "cell_type": "markdown",
   "id": "8072fb6b",
   "metadata": {},
   "source": [
    "# Data Cleansing"
   ]
  },
  {
   "cell_type": "code",
   "execution_count": 40,
   "id": "a303eb18",
   "metadata": {},
   "outputs": [],
   "source": [
    "newdf <- travelInsurance %>% select (-c(Employment.Type,GraduateOrNot,FrequentFlyer,EverTravelledAbroad)) "
   ]
  },
  {
   "cell_type": "code",
   "execution_count": 46,
   "id": "9a2717ed",
   "metadata": {},
   "outputs": [],
   "source": [
    "newdf$TravelInsurance <- as.factor(travelInsurance$TravelInsurance)\n",
    "levels(newdf$TravelInsurance) <- c('travel_insurance_not_taken', 'travel_insurance_taken')"
   ]
  },
  {
   "cell_type": "markdown",
   "id": "46d9174a",
   "metadata": {},
   "source": [
    "# Training and testing the data"
   ]
  },
  {
   "cell_type": "code",
   "execution_count": 47,
   "id": "d8daeb54",
   "metadata": {},
   "outputs": [
    {
     "data": {
      "text/html": [
       "<ol class=list-inline>\n",
       "\t<li>1590</li>\n",
       "\t<li>6</li>\n",
       "</ol>\n"
      ],
      "text/latex": [
       "\\begin{enumerate*}\n",
       "\\item 1590\n",
       "\\item 6\n",
       "\\end{enumerate*}\n"
      ],
      "text/markdown": [
       "1. 1590\n",
       "2. 6\n",
       "\n",
       "\n"
      ],
      "text/plain": [
       "[1] 1590    6"
      ]
     },
     "metadata": {},
     "output_type": "display_data"
    }
   ],
   "source": [
    "set.seed(101)\n",
    "split <- sample.split(newdf$TravelInsurance, SplitRatio = 0.8)\n",
    "train_data <- subset(newdf, split == TRUE)\n",
    "test_data <- subset(newdf, split == FALSE)\n",
    "dim(train_data)"
   ]
  },
  {
   "cell_type": "code",
   "execution_count": 48,
   "id": "b819cbbc",
   "metadata": {},
   "outputs": [
    {
     "data": {
      "text/html": [
       "<ol class=list-inline>\n",
       "\t<li>397</li>\n",
       "\t<li>6</li>\n",
       "</ol>\n"
      ],
      "text/latex": [
       "\\begin{enumerate*}\n",
       "\\item 397\n",
       "\\item 6\n",
       "\\end{enumerate*}\n"
      ],
      "text/markdown": [
       "1. 397\n",
       "2. 6\n",
       "\n",
       "\n"
      ],
      "text/plain": [
       "[1] 397   6"
      ]
     },
     "metadata": {},
     "output_type": "display_data"
    }
   ],
   "source": [
    "dim(test_data)"
   ]
  },
  {
   "cell_type": "code",
   "execution_count": 50,
   "id": "9b839b77",
   "metadata": {},
   "outputs": [],
   "source": [
    "LogModel = glm(TravelInsurance~., test_data, family=binomial())"
   ]
  },
  {
   "cell_type": "code",
   "execution_count": 51,
   "id": "f2290e62",
   "metadata": {},
   "outputs": [],
   "source": [
    "library(pROC)"
   ]
  },
  {
   "cell_type": "code",
   "execution_count": 85,
   "id": "7f2b43ad",
   "metadata": {},
   "outputs": [
    {
     "name": "stderr",
     "output_type": "stream",
     "text": [
      "Setting levels: control = travel_insurance_not_taken, case = travel_insurance_taken\n",
      "Setting direction: controls < cases\n"
     ]
    },
    {
     "data": {
      "text/plain": [
       "\n",
       "Call:\n",
       "roc.default(response = test_data$TravelInsurance, predictor = LM_roc,     plot = TRUE, col = \"green\")\n",
       "\n",
       "Data: LM_roc in 255 controls (test_data$TravelInsurance travel_insurance_not_taken) < 142 cases (test_data$TravelInsurance travel_insurance_taken).\n",
       "Area under the curve: 0.7469"
      ]
     },
     "metadata": {},
     "output_type": "display_data"
    },
    {
     "data": {
      "image/png": "[encoded data removed]",
      "text/plain": [
       "plot without title"
      ]
     },
     "metadata": {},
     "output_type": "display_data"
    }
   ],
   "source": [
    "LM_roc = predict(LogModel,test_data, type='response')\n",
    "roc(test_data$TravelInsurance, LM_roc, plot=TRUE, col=\"green\")"
   ]
  },
  {
   "cell_type": "code",
   "execution_count": 53,
   "id": "d265516b",
   "metadata": {},
   "outputs": [
    {
     "data": {
      "image/png": "[encoded data removed]",
      "text/plain": [
       "plot without title"
      ]
     },
     "metadata": {},
     "output_type": "display_data"
    }
   ],
   "source": [
    "train_data %>% ggplot(aes(x = factor(TravelInsurance), y = prop.table(stat(count)), fill = factor(TravelInsurance))) +\n",
    "  geom_bar(position = \"dodge\") +\n",
    "  scale_y_continuous(labels = scales::percent) +\n",
    "  labs(x = 'TravelInsurance', y = 'Percentage', title = 'Training Class distributions') +\n",
    "  theme_grey()"
   ]
  },
  {
   "cell_type": "markdown",
   "id": "dd184b47",
   "metadata": {},
   "source": [
    "# Logistic regression"
   ]
  },
  {
   "cell_type": "code",
   "execution_count": 54,
   "id": "24e965ad",
   "metadata": {},
   "outputs": [],
   "source": [
    "logistic_model <- glm(TravelInsurance ~ ., train_data, family='binomial')"
   ]
  },
  {
   "cell_type": "code",
   "execution_count": 55,
   "id": "d2906b6a",
   "metadata": {},
   "outputs": [
    {
     "data": {
      "text/plain": [
       "\n",
       "Call:\n",
       "glm(formula = TravelInsurance ~ ., family = \"binomial\", data = train_data)\n",
       "\n",
       "Deviance Residuals: \n",
       "    Min       1Q   Median       3Q      Max  \n",
       "-1.9645  -0.8892  -0.5405   0.9803   2.3280  \n",
       "\n",
       "Coefficients:\n",
       "                  Estimate Std. Error z value Pr(>|z|)    \n",
       "(Intercept)     -5.711e+00  6.579e-01  -8.680  < 2e-16 ***\n",
       "X                4.683e-05  1.014e-04   0.462  0.64415    \n",
       "Age              5.894e-02  1.936e-02   3.045  0.00233 ** \n",
       "AnnualIncome     2.564e-06  1.702e-07  15.066  < 2e-16 ***\n",
       "FamilyMembers    1.604e-01  3.612e-02   4.440 8.98e-06 ***\n",
       "ChronicDiseases  2.126e-01  1.278e-01   1.663  0.09625 .  \n",
       "---\n",
       "Signif. codes:  0 '***' 0.001 '**' 0.01 '*' 0.05 '.' 0.1 ' ' 1\n",
       "\n",
       "(Dispersion parameter for binomial family taken to be 1)\n",
       "\n",
       "    Null deviance: 2072.8  on 1589  degrees of freedom\n",
       "Residual deviance: 1772.0  on 1584  degrees of freedom\n",
       "AIC: 1784\n",
       "\n",
       "Number of Fisher Scoring iterations: 4\n"
      ]
     },
     "metadata": {},
     "output_type": "display_data"
    }
   ],
   "source": [
    "summary(logistic_model)"
   ]
  },
  {
   "cell_type": "code",
   "execution_count": 56,
   "id": "184170d9",
   "metadata": {},
   "outputs": [
    {
     "data": {
      "image/png": "[encoded data removed]",
      "text/plain": [
       "Plot with title \"\""
      ]
     },
     "metadata": {},
     "output_type": "display_data"
    },
    {
     "data": {
      "image/png": "[encoded data removed]",
      "text/plain": [
       "Plot with title \"\""
      ]
     },
     "metadata": {},
     "output_type": "display_data"
    },
    {
     "data": {
      "image/png": "[encoded data removed]",
      "text/plain": [
       "Plot with title \"\""
      ]
     },
     "metadata": {},
     "output_type": "display_data"
    },
    {
     "data": {
      "image/png": "[encoded data removed]",
      "text/plain": [
       "Plot with title \"\""
      ]
     },
     "metadata": {},
     "output_type": "display_data"
    }
   ],
   "source": [
    "plot(logistic_model)"
   ]
  },
  {
   "cell_type": "markdown",
   "id": "ea5e44eb",
   "metadata": {},
   "source": [
    "# Confusion Matrix"
   ]
  },
  {
   "cell_type": "code",
   "execution_count": 73,
   "id": "fc3ce214",
   "metadata": {},
   "outputs": [],
   "source": [
    "logit.fit <- glm(TravelInsurance ~ ., family = binomial(), data = newdf)"
   ]
  },
  {
   "cell_type": "code",
   "execution_count": 74,
   "id": "ea9c59cd",
   "metadata": {},
   "outputs": [],
   "source": [
    "logit.fit.prob <- predict(logit.fit, type = 'response')"
   ]
  },
  {
   "cell_type": "code",
   "execution_count": 75,
   "id": "17b63cd4",
   "metadata": {},
   "outputs": [],
   "source": [
    "logit.fit.class <- ifelse(logit.fit.prob > 0.5, \"1\", \"0\") %>% as.factor()"
   ]
  },
  {
   "cell_type": "code",
   "execution_count": 76,
   "id": "1e69d540",
   "metadata": {},
   "outputs": [
    {
     "data": {
      "text/html": [
       "0.250629089079014"
      ],
      "text/latex": [
       "0.250629089079014"
      ],
      "text/markdown": [
       "0.250629089079014"
      ],
      "text/plain": [
       "[1] 0.2506291"
      ]
     },
     "metadata": {},
     "output_type": "display_data"
    }
   ],
   "source": [
    "mean(travelInsurance$TravelInsurance != logit.fit.class)"
   ]
  },
  {
   "cell_type": "code",
   "execution_count": 77,
   "id": "b63a27c9",
   "metadata": {},
   "outputs": [],
   "source": [
    "cost <- function(r, pi = 0) mean(abs(r-pi) > 0.5)"
   ]
  },
  {
   "cell_type": "code",
   "execution_count": 78,
   "id": "d96f9b25",
   "metadata": {},
   "outputs": [
    {
     "data": {
      "text/html": [
       "0.231504781077"
      ],
      "text/latex": [
       "0.231504781077"
      ],
      "text/markdown": [
       "0.231504781077"
      ],
      "text/plain": [
       "[1] 0.2315048"
      ]
     },
     "metadata": {},
     "output_type": "display_data"
    }
   ],
   "source": [
    "cv.glm(travelInsurance, logit.fit, cost=cost, K=10)$delta[1]"
   ]
  },
  {
   "cell_type": "code",
   "execution_count": 83,
   "id": "2d0cd9bd",
   "metadata": {},
   "outputs": [
    {
     "data": {
      "text/plain": [
       "   logit.fit.class\n",
       "       0    1\n",
       "  0 1117  160\n",
       "  1  338  372"
      ]
     },
     "metadata": {},
     "output_type": "display_data"
    }
   ],
   "source": [
    "confusion.matrix <- table(travelInsurance$TravelInsurance, logit.fit.class)\n",
    "confusion.matrix"
   ]
  },
  {
   "cell_type": "code",
   "execution_count": 80,
   "id": "95a8a1d0",
   "metadata": {},
   "outputs": [
    {
     "data": {
      "text/html": [
       "0.523943661971831"
      ],
      "text/latex": [
       "0.523943661971831"
      ],
      "text/markdown": [
       "0.523943661971831"
      ],
      "text/plain": [
       "[1] 0.5239437"
      ]
     },
     "metadata": {},
     "output_type": "display_data"
    }
   ],
   "source": [
    "tp <- confusion.matrix[2,2]\n",
    "fn <- confusion.matrix[2,1]\n",
    "sensitivity <- tp/(tp+fn)\n",
    "sensitivity"
   ]
  },
  {
   "cell_type": "code",
   "execution_count": 81,
   "id": "f4aa2b11",
   "metadata": {},
   "outputs": [
    {
     "data": {
      "text/html": [
       "0.874706342991386"
      ],
      "text/latex": [
       "0.874706342991386"
      ],
      "text/markdown": [
       "0.874706342991386"
      ],
      "text/plain": [
       "[1] 0.8747063"
      ]
     },
     "metadata": {},
     "output_type": "display_data"
    }
   ],
   "source": [
    "tn <- confusion.matrix[1,1]\n",
    "fp <- confusion.matrix[1,2]\n",
    "specificity <- tn/(tn+fp)\n",
    "specificity"
   ]
  }
 ],
 "metadata": {
  "kernelspec": {
   "display_name": "R",
   "language": "R",
   "name": "ir"
  },
  "language_info": {
   "codemirror_mode": "r",
   "file_extension": ".r",
   "mimetype": "text/x-r-source",
   "name": "R",
   "pygments_lexer": "r",
   "version": "3.6.1"
  }
 },
 "nbformat": 4,
 "nbformat_minor": 5
}
